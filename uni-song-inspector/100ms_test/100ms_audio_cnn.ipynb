{
 "cells": [
  {
   "cell_type": "code",
   "execution_count": 1,
   "metadata": {},
   "outputs": [
    {
     "name": "stderr",
     "output_type": "stream",
     "text": [
      "2024-04-30 12:09:19.270294: I tensorflow/core/platform/cpu_feature_guard.cc:193] This TensorFlow binary is optimized with oneAPI Deep Neural Network Library (oneDNN) to use the following CPU instructions in performance-critical operations:  AVX2 FMA\n",
      "To enable them in other operations, rebuild TensorFlow with the appropriate compiler flags.\n",
      "2024-04-30 12:09:19.427713: W tensorflow/stream_executor/platform/default/dso_loader.cc:64] Could not load dynamic library 'libcudart.so.11.0'; dlerror: libcudart.so.11.0: cannot open shared object file: No such file or directory\n",
      "2024-04-30 12:09:19.427740: I tensorflow/stream_executor/cuda/cudart_stub.cc:29] Ignore above cudart dlerror if you do not have a GPU set up on your machine.\n",
      "2024-04-30 12:09:19.467615: E tensorflow/stream_executor/cuda/cuda_blas.cc:2981] Unable to register cuBLAS factory: Attempting to register factory for plugin cuBLAS when one has already been registered\n",
      "2024-04-30 12:09:20.285124: W tensorflow/stream_executor/platform/default/dso_loader.cc:64] Could not load dynamic library 'libnvinfer.so.7'; dlerror: libnvinfer.so.7: cannot open shared object file: No such file or directory\n",
      "2024-04-30 12:09:20.285230: W tensorflow/stream_executor/platform/default/dso_loader.cc:64] Could not load dynamic library 'libnvinfer_plugin.so.7'; dlerror: libnvinfer_plugin.so.7: cannot open shared object file: No such file or directory\n",
      "2024-04-30 12:09:20.285242: W tensorflow/compiler/tf2tensorrt/utils/py_utils.cc:38] TF-TRT Warning: Cannot dlopen some TensorRT libraries. If you would like to use Nvidia GPU with TensorRT, please make sure the missing libraries mentioned above are installed properly.\n"
     ]
    }
   ],
   "source": [
    "from sklearn.metrics import ConfusionMatrixDisplay\n",
    "from sklearn.metrics import confusion_matrix\n",
    "from sklearn.model_selection import train_test_split\n",
    "import pandas as pd\n",
    "import matplotlib.pyplot as plt\n",
    "import numpy as np\n",
    "from tensorflow.keras import models, layers\n",
    "from tensorflow.keras.losses import BinaryCrossentropy\n",
    "from tensorflow.keras.callbacks import EarlyStopping\n",
    "import tensorflow as tf\n",
    "import ast\n",
    "import librosa"
   ]
  },
  {
   "cell_type": "code",
   "execution_count": 8,
   "metadata": {},
   "outputs": [
    {
     "name": "stdout",
     "output_type": "stream",
     "text": [
      "['Sound_Guitar' 'Sound_Drum' 'Sound_Violin' 'Sound_Piano']\n"
     ]
    },
    {
     "data": {
      "text/plain": [
       "instrument\n",
       "Sound_Piano     21796\n",
       "Sound_Drum      11783\n",
       "Sound_Violin    11783\n",
       "Sound_Guitar    11586\n",
       "Name: count, dtype: int64"
      ]
     },
     "execution_count": 8,
     "metadata": {},
     "output_type": "execute_result"
    }
   ],
   "source": [
    "train_csv = pd.read_csv('100ms_training_data.csv')\n",
    "test_csv = pd.read_csv('100ms_test_data.csv')\n",
    "\n",
    "labels = train_csv['instrument'].unique()\n",
    "#spelling error in the test_data we need to account for\n",
    "label_encoder = {'Sound_Guiatr' : 0}\n",
    "for index, label in enumerate(labels):\n",
    "    label_encoder[label] = index\n",
    "\n",
    "print(labels)\n",
    "train_csv['instrument'].value_counts()"
   ]
  },
  {
   "cell_type": "code",
   "execution_count": 9,
   "metadata": {},
   "outputs": [
    {
     "data": {
      "text/html": [
       "<div>\n",
       "<style scoped>\n",
       "    .dataframe tbody tr th:only-of-type {\n",
       "        vertical-align: middle;\n",
       "    }\n",
       "\n",
       "    .dataframe tbody tr th {\n",
       "        vertical-align: top;\n",
       "    }\n",
       "\n",
       "    .dataframe thead th {\n",
       "        text-align: right;\n",
       "    }\n",
       "</style>\n",
       "<table border=\"1\" class=\"dataframe\">\n",
       "  <thead>\n",
       "    <tr style=\"text-align: right;\">\n",
       "      <th></th>\n",
       "      <th>Unnamed: 0</th>\n",
       "      <th>mel spec ref</th>\n",
       "      <th>instrument</th>\n",
       "    </tr>\n",
       "  </thead>\n",
       "  <tbody>\n",
       "    <tr>\n",
       "      <th>0</th>\n",
       "      <td>0</td>\n",
       "      <td>1-E1-Major 00.wav-window-0.txt</td>\n",
       "      <td>Sound_Guitar</td>\n",
       "    </tr>\n",
       "    <tr>\n",
       "      <th>1</th>\n",
       "      <td>1</td>\n",
       "      <td>1-E1-Major 00.wav-window-1.txt</td>\n",
       "      <td>Sound_Guitar</td>\n",
       "    </tr>\n",
       "    <tr>\n",
       "      <th>2</th>\n",
       "      <td>2</td>\n",
       "      <td>1-E1-Major 01.wav-window-0.txt</td>\n",
       "      <td>Sound_Guitar</td>\n",
       "    </tr>\n",
       "    <tr>\n",
       "      <th>3</th>\n",
       "      <td>3</td>\n",
       "      <td>1-E1-Major 01.wav-window-1.txt</td>\n",
       "      <td>Sound_Guitar</td>\n",
       "    </tr>\n",
       "    <tr>\n",
       "      <th>4</th>\n",
       "      <td>4</td>\n",
       "      <td>1-E1-Major 02.wav-window-0.txt</td>\n",
       "      <td>Sound_Guitar</td>\n",
       "    </tr>\n",
       "  </tbody>\n",
       "</table>\n",
       "</div>"
      ],
      "text/plain": [
       "   Unnamed: 0                    mel spec ref    instrument\n",
       "0           0  1-E1-Major 00.wav-window-0.txt  Sound_Guitar\n",
       "1           1  1-E1-Major 00.wav-window-1.txt  Sound_Guitar\n",
       "2           2  1-E1-Major 01.wav-window-0.txt  Sound_Guitar\n",
       "3           3  1-E1-Major 01.wav-window-1.txt  Sound_Guitar\n",
       "4           4  1-E1-Major 02.wav-window-0.txt  Sound_Guitar"
      ]
     },
     "execution_count": 9,
     "metadata": {},
     "output_type": "execute_result"
    }
   ],
   "source": [
    "train_csv.head()"
   ]
  },
  {
   "cell_type": "code",
   "execution_count": 10,
   "metadata": {},
   "outputs": [
    {
     "name": "stdout",
     "output_type": "stream",
     "text": [
      "1-E1-Major 00.wav-window-0.txt\n"
     ]
    },
    {
     "ename": "ValueError",
     "evalue": "cannot reshape array of size 8320 into shape (128,44)",
     "output_type": "error",
     "traceback": [
      "\u001b[0;31m---------------------------------------------------------------------------\u001b[0m",
      "\u001b[0;31mValueError\u001b[0m                                Traceback (most recent call last)",
      "Input \u001b[0;32mIn [10]\u001b[0m, in \u001b[0;36m<cell line: 23>\u001b[0;34m()\u001b[0m\n\u001b[1;32m     23\u001b[0m \u001b[38;5;28;01mfor\u001b[39;00m index, data \u001b[38;5;129;01min\u001b[39;00m \u001b[38;5;28menumerate\u001b[39m(data_combind_train_validation): \n\u001b[1;32m     24\u001b[0m     \u001b[38;5;28mprint\u001b[39m(data)\n\u001b[0;32m---> 25\u001b[0m     data_combind_train_validation[index] \u001b[38;5;241m=\u001b[39m \u001b[43mnp\u001b[49m\u001b[38;5;241;43m.\u001b[39;49m\u001b[43mloadtxt\u001b[49m\u001b[43m(\u001b[49m\u001b[38;5;124;43mf\u001b[39;49m\u001b[38;5;124;43m'\u001b[39;49m\u001b[38;5;124;43m./silenced_100ms_train/\u001b[39;49m\u001b[38;5;132;43;01m{\u001b[39;49;00m\u001b[43mdata\u001b[49m\u001b[38;5;132;43;01m}\u001b[39;49;00m\u001b[38;5;124;43m'\u001b[39;49m\u001b[43m)\u001b[49m\u001b[38;5;241;43m.\u001b[39;49m\u001b[43mreshape\u001b[49m\u001b[43m(\u001b[49m\u001b[43m(\u001b[49m\u001b[38;5;241;43m128\u001b[39;49m\u001b[43m,\u001b[49m\u001b[43m \u001b[49m\u001b[38;5;241;43m44\u001b[39;49m\u001b[43m)\u001b[49m\u001b[43m)\u001b[49m\n\u001b[1;32m     27\u001b[0m \u001b[38;5;66;03m#change labels to 0-4   \u001b[39;00m\n\u001b[1;32m     28\u001b[0m \u001b[38;5;28;01mfor\u001b[39;00m index, data \u001b[38;5;129;01min\u001b[39;00m \u001b[38;5;28menumerate\u001b[39m(labels_combind_train_validation):\n",
      "\u001b[0;31mValueError\u001b[0m: cannot reshape array of size 8320 into shape (128,44)"
     ]
    }
   ],
   "source": [
    "#preparing training data\n",
    "\n",
    "guitar_df = train_csv[train_csv['instrument'] == 'Sound_Guitar']\n",
    "piano_df = train_csv[train_csv['instrument'] == 'Sound_Drum']\n",
    "drum_df = train_csv[train_csv['instrument'] == 'Sound_Violin']\n",
    "violin_df = train_csv[train_csv['instrument'] == 'Sound_Piano']\n",
    "\n",
    "#750 examples from each for intail training\n",
    "data_combind_train_validation = guitar_df['mel spec ref'].tolist()[:1000]\n",
    "labels_combind_train_validation = guitar_df['instrument'].tolist()[:1000]\n",
    "\n",
    "data_combind_train_validation.extend(piano_df['mel spec ref'].tolist()[:1000])\n",
    "labels_combind_train_validation.extend(piano_df['instrument'].tolist()[:1000])\n",
    "\n",
    "data_combind_train_validation.extend(drum_df['mel spec ref'].tolist()[:1000])\n",
    "labels_combind_train_validation.extend(drum_df['instrument'].tolist()[:1000])\n",
    "\n",
    "data_combind_train_validation.extend(violin_df['mel spec ref'].tolist()[:1000])\n",
    "labels_combind_train_validation.extend(violin_df['instrument'].tolist()[:1000])\n",
    "\n",
    "\n",
    "#mel spec data and reshape it\n",
    "for index, data in enumerate(data_combind_train_validation): \n",
    "    data_combind_train_validation[index] = np.loadtxt(f'./100ms_train_mel_spec/{data}').reshape((128, 44))\n",
    " \n",
    "#change labels to 0-4   \n",
    "for index, data in enumerate(labels_combind_train_validation):\n",
    "    labels_combind_train_validation[index] = label_encoder[data]\n",
    "    "
   ]
  },
  {
   "cell_type": "code",
   "execution_count": 25,
   "metadata": {},
   "outputs": [
    {
     "data": {
      "text/plain": [
       "<matplotlib.colorbar.Colorbar at 0x71cfd4a939a0>"
      ]
     },
     "execution_count": 25,
     "metadata": {},
     "output_type": "execute_result"
    },
    {
     "data": {
      "image/png": "[encoded data removed]",
      "text/plain": [
       "<Figure size 1008x360 with 2 Axes>"
      ]
     },
     "metadata": {
      "needs_background": "light"
     },
     "output_type": "display_data"
    }
   ],
   "source": [
    "#testing the conversion has worked\n",
    "plt.figure(figsize=(14,5))\n",
    "librosa.display.specshow(data_combind_train_validation[0], sr=22050, x_axis='time', y_axis='mel')\n",
    "plt.title(labels_combind_train_validation[0])\n",
    "plt.colorbar()"
   ]
  },
  {
   "cell_type": "code",
   "execution_count": 26,
   "metadata": {},
   "outputs": [
    {
     "data": {
      "text/plain": [
       "instrument\n",
       "Sound_Guiatr    1536\n",
       "Sound_Piano     1076\n",
       "Sound_Drum       843\n",
       "Sound_Violin     276\n",
       "Name: count, dtype: int64"
      ]
     },
     "execution_count": 26,
     "metadata": {},
     "output_type": "execute_result"
    }
   ],
   "source": [
    "test_csv['instrument'].value_counts()"
   ]
  },
  {
   "cell_type": "code",
   "execution_count": 27,
   "metadata": {},
   "outputs": [],
   "source": [
    "#spelling mistake in test data - should be guitar not guiatr\n",
    "guitar_df = test_csv[test_csv['instrument'] == 'Sound_Guiatr']\n",
    "piano_df = test_csv[test_csv['instrument'] == 'Sound_Drum']\n",
    "drum_df = test_csv[test_csv['instrument'] == 'Sound_Violin']\n",
    "violin_df = test_csv[test_csv['instrument'] == 'Sound_Piano']\n",
    "\n",
    "data_test = guitar_df['mel spec ref'].tolist()\n",
    "labels_test = guitar_df['instrument'].tolist()\n",
    "\n",
    "data_test.extend(piano_df['mel spec ref'].tolist())\n",
    "labels_test.extend(piano_df['instrument'].tolist())\n",
    "\n",
    "data_test.extend(drum_df['mel spec ref'].tolist())\n",
    "labels_test.extend(drum_df['instrument'].tolist())\n",
    "\n",
    "data_test.extend(violin_df['mel spec ref'].tolist())\n",
    "labels_test.extend(violin_df['instrument'].tolist())\n",
    "\n",
    "#mel spec data and reshape it\n",
    "for index, data in enumerate(data_test): \n",
    "    data_test[index] = np.loadtxt(f'./silenced_100ms_test/{data}').reshape((128, 44))\n",
    " \n",
    "#change labels to 0-4   \n",
    "for index, data in enumerate(labels_test):\n",
    "    labels_test[index] = label_encoder[data]\n",
    "    "
   ]
  },
  {
   "cell_type": "code",
   "execution_count": 28,
   "metadata": {},
   "outputs": [
    {
     "name": "stdout",
     "output_type": "stream",
     "text": [
      "Model: \"sequential_2\"\n",
      "_________________________________________________________________\n",
      " Layer (type)                Output Shape              Param #   \n",
      "=================================================================\n",
      " conv2d_6 (Conv2D)           (None, 123, 39, 64)       2368      \n",
      "                                                                 \n",
      " max_pooling2d_4 (MaxPooling  (None, 61, 19, 64)       0         \n",
      " 2D)                                                             \n",
      "                                                                 \n",
      " dropout_6 (Dropout)         (None, 61, 19, 64)        0         \n",
      "                                                                 \n",
      " conv2d_7 (Conv2D)           (None, 56, 14, 128)       295040    \n",
      "                                                                 \n",
      " max_pooling2d_5 (MaxPooling  (None, 28, 7, 128)       0         \n",
      " 2D)                                                             \n",
      "                                                                 \n",
      " dropout_7 (Dropout)         (None, 28, 7, 128)        0         \n",
      "                                                                 \n",
      " conv2d_8 (Conv2D)           (None, 26, 5, 128)        147584    \n",
      "                                                                 \n",
      " flatten_2 (Flatten)         (None, 16640)             0         \n",
      "                                                                 \n",
      " dense_6 (Dense)             (None, 64)                1065024   \n",
      "                                                                 \n",
      " dropout_8 (Dropout)         (None, 64)                0         \n",
      "                                                                 \n",
      " dense_7 (Dense)             (None, 32)                2080      \n",
      "                                                                 \n",
      " dense_8 (Dense)             (None, 4)                 132       \n",
      "                                                                 \n",
      "=================================================================\n",
      "Total params: 1,512,228\n",
      "Trainable params: 1,512,228\n",
      "Non-trainable params: 0\n",
      "_________________________________________________________________\n"
     ]
    }
   ],
   "source": [
    "#model set up\n",
    "\n",
    "input_shape=(128,44,1)\n",
    "model = models.Sequential()\n",
    "model.add(layers.Conv2D(64, (6, 6), activation='relu', input_shape=input_shape))\n",
    "model.add(layers.MaxPooling2D((2, 2)))\n",
    "model.add(layers.Dropout(0.2))\n",
    "model.add(layers.Conv2D(128, (6, 6), activation='relu'))\n",
    "model.add(layers.MaxPooling2D((2, 2)))\n",
    "model.add(layers.Dropout(0.2))\n",
    "model.add(layers.Conv2D(128, (3, 3), activation='relu'))\n",
    "model.add(layers.Flatten())\n",
    "model.add(layers.Dense(64, activation='relu'))\n",
    "model.add(layers.Dropout(0.2))\n",
    "model.add(layers.Dense(32, activation='relu'))\n",
    "model.add(layers.Dense(4, activation='softmax'))\n",
    "model.summary()"
   ]
  },
  {
   "cell_type": "code",
   "execution_count": 29,
   "metadata": {},
   "outputs": [],
   "source": [
    "#history reporter\n",
    "def report(history,y_pred,y_true):\n",
    "    plt.plot(history.epoch, history.history[\"accuracy\"],history.history['val_accuracy'])\n",
    "    plt.xlabel('epochs')\n",
    "    plt.ylabel('accuracy')\n",
    "    plt.suptitle('Training (blue) and validation (orange) History')\n",
    "    plt.show()\n",
    "    \n",
    "    plt.figure(figsize=(10,8))\n",
    "    predicted= np.argmax(y_pred,axis=1)\n",
    "    cm=ConfusionMatrixDisplay(confusion_matrix(y_true=y_true, y_pred=predicted), display_labels=['Guitar', 'Drum', 'Violin', 'Piano'])#, display_labels = [False, True]) \n",
    "    cm.plot()\n",
    "    plt.show()"
   ]
  },
  {
   "cell_type": "code",
   "execution_count": 30,
   "metadata": {},
   "outputs": [],
   "source": [
    "\n",
    "\n",
    "x_train,x_val,y_train,y_val= train_test_split(data_combind_train_validation, labels_combind_train_validation,\n",
    "                                                test_size=0.125,\n",
    "                                                shuffle=True,\n",
    "                                                stratify=labels_combind_train_validation)\n"
   ]
  },
  {
   "cell_type": "code",
   "execution_count": 31,
   "metadata": {},
   "outputs": [
    {
     "name": "stdout",
     "output_type": "stream",
     "text": [
      "Epoch 1/20\n"
     ]
    },
    {
     "name": "stderr",
     "output_type": "stream",
     "text": [
      "/home/michael/.local/lib/python3.10/site-packages/keras/backend.py:5582: UserWarning: \"`sparse_categorical_crossentropy` received `from_logits=True`, but the `output` argument was produced by a Softmax activation and thus does not represent logits. Was this intended?\n",
      "  output, from_logits = _get_logits(\n"
     ]
    },
    {
     "name": "stdout",
     "output_type": "stream",
     "text": [
      "110/110 [==============================] - 69s 617ms/step - loss: 1.6068 - accuracy: 0.4234 - val_loss: 0.7842 - val_accuracy: 0.5940\n",
      "Epoch 2/20\n",
      "110/110 [==============================] - 67s 610ms/step - loss: 0.7230 - accuracy: 0.6343 - val_loss: 0.5707 - val_accuracy: 0.6820\n",
      "Epoch 3/20\n",
      "110/110 [==============================] - 75s 684ms/step - loss: 0.5999 - accuracy: 0.6703 - val_loss: 0.4886 - val_accuracy: 0.6720\n",
      "Epoch 4/20\n",
      "110/110 [==============================] - 77s 700ms/step - loss: 0.5387 - accuracy: 0.6846 - val_loss: 0.4417 - val_accuracy: 0.7140\n",
      "Epoch 5/20\n",
      "110/110 [==============================] - 78s 708ms/step - loss: 0.4888 - accuracy: 0.7077 - val_loss: 0.4750 - val_accuracy: 0.7080\n",
      "Epoch 6/20\n",
      "110/110 [==============================] - 78s 705ms/step - loss: 0.4690 - accuracy: 0.7151 - val_loss: 0.4122 - val_accuracy: 0.7260\n",
      "Epoch 7/20\n",
      "110/110 [==============================] - 78s 704ms/step - loss: 0.4431 - accuracy: 0.7163 - val_loss: 0.4163 - val_accuracy: 0.7080\n",
      "Epoch 8/20\n",
      "110/110 [==============================] - 78s 705ms/step - loss: 0.4298 - accuracy: 0.7226 - val_loss: 0.4326 - val_accuracy: 0.7260\n",
      "Epoch 9/20\n",
      "110/110 [==============================] - 77s 701ms/step - loss: 0.4437 - accuracy: 0.7163 - val_loss: 0.4028 - val_accuracy: 0.7240\n",
      "Epoch 10/20\n",
      "110/110 [==============================] - 77s 698ms/step - loss: 0.4577 - accuracy: 0.7129 - val_loss: 0.5500 - val_accuracy: 0.6860\n",
      "Epoch 11/20\n",
      "110/110 [==============================] - 77s 697ms/step - loss: 0.4106 - accuracy: 0.7346 - val_loss: 0.4137 - val_accuracy: 0.7240\n",
      "Epoch 12/20\n",
      "110/110 [==============================] - 76s 692ms/step - loss: 0.3943 - accuracy: 0.7374 - val_loss: 0.4585 - val_accuracy: 0.7220\n"
     ]
    }
   ],
   "source": [
    "early_stopping = EarlyStopping(monitor='val_loss',patience=3, \n",
    "                               min_delta=0.001,\n",
    "                               restore_best_weights=True)\n",
    "\n",
    "model.compile(optimizer='adam',\n",
    "              loss=tf.keras.losses.SparseCategoricalCrossentropy(from_logits=True),\n",
    "              metrics=['accuracy'])\n",
    "\n",
    "\n",
    "history = model.fit(np.array(x_train), np.array(y_train),\n",
    "                    epochs=20, \n",
    "                    validation_data=(np.array(x_val), np.array(y_val)),\n",
    "                    callbacks=early_stopping)"
   ]
  },
  {
   "cell_type": "code",
   "execution_count": 32,
   "metadata": {},
   "outputs": [
    {
     "name": "stdout",
     "output_type": "stream",
     "text": [
      "117/117 [==============================] - 18s 157ms/step\n"
     ]
    }
   ],
   "source": [
    "y_pred = model.predict(np.array(data_test))\n"
   ]
  },
  {
   "cell_type": "code",
   "execution_count": 16,
   "metadata": {},
   "outputs": [],
   "source": []
  },
  {
   "cell_type": "code",
   "execution_count": 33,
   "metadata": {},
   "outputs": [
    {
     "data": {
      "image/png": "[encoded data removed]",
      "text/plain": [
       "<Figure size 432x288 with 1 Axes>"
      ]
     },
     "metadata": {
      "needs_background": "light"
     },
     "output_type": "display_data"
    },
    {
     "data": {
      "text/plain": [
       "<Figure size 720x576 with 0 Axes>"
      ]
     },
     "metadata": {},
     "output_type": "display_data"
    },
    {
     "data": {
      "image/png": "[encoded data removed]",
      "text/plain": [
       "<Figure size 432x288 with 2 Axes>"
      ]
     },
     "metadata": {
      "needs_background": "light"
     },
     "output_type": "display_data"
    }
   ],
   "source": [
    "report(history, y_pred, labels_test)\n"
   ]
  },
  {
   "cell_type": "code",
   "execution_count": null,
   "metadata": {},
   "outputs": [],
   "source": []
  }
 ],
 "metadata": {
  "kernelspec": {
   "display_name": "Python 3",
   "language": "python",
   "name": "python3"
  },
  "language_info": {
   "codemirror_mode": {
    "name": "ipython",
    "version": 3
   },
   "file_extension": ".py",
   "mimetype": "text/x-python",
   "name": "python",
   "nbconvert_exporter": "python",
   "pygments_lexer": "ipython3",
   "version": "3.10.12"
  }
 },
 "nbformat": 4,
 "nbformat_minor": 2
}
