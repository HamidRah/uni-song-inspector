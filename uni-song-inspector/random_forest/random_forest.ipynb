{
 "cells": [
  {
   "cell_type": "code",
   "execution_count": 6,
   "metadata": {},
   "outputs": [],
   "source": [
    "import librosa\n",
    "import numpy as np\n",
    "import pandas  as pd\n",
    "from sklearn.ensemble import RandomForestClassifier\n",
    "import tqdm\n",
    "from sklearn.metrics import ConfusionMatrixDisplay\n",
    "from sklearn.metrics import confusion_matrix\n",
    "import matplotlib.pyplot as plt"
   ]
  },
  {
   "cell_type": "code",
   "execution_count": 7,
   "metadata": {},
   "outputs": [
    {
     "data": {
      "text/plain": [
       "array(['Sound_Guiatr', 'Sound_Drum', 'Sound_Violin', 'Sound_Piano'],\n",
       "      dtype=object)"
      ]
     },
     "execution_count": 7,
     "metadata": {},
     "output_type": "execute_result"
    }
   ],
   "source": [
    "def get_windows(audio, window_size):\n",
    "    \n",
    "    start = 0\n",
    "    windows = []\n",
    "    audio_len = len(audio)\n",
    "    \n",
    "    while start < audio_len:\n",
    "        \n",
    "        #find window end\n",
    "        if start+window_size > audio_len:\n",
    "            break\n",
    "        else: \n",
    "            window_end = int(start + window_size)\n",
    "            \n",
    "        #take window \n",
    "        window = audio[start:window_end]\n",
    "    \n",
    "        windows.append(window)\n",
    "        #move window\n",
    "        start += int(window_size / 2) \n",
    "        \n",
    "    return windows\n",
    "\n",
    "train_csv = pd.read_csv('/home/michael/Documents/VScode/Uni/Advanced AI/project_ideas/archive/Metadata_Train.csv')\n",
    "test_csv = pd.read_csv('/home/michael/Documents/VScode/Uni/Advanced AI/project_ideas/archive/Metadata_Test.csv')\n",
    "test_csv['Class'].unique()"
   ]
  },
  {
   "cell_type": "code",
   "execution_count": 8,
   "metadata": {},
   "outputs": [
    {
     "name": "stderr",
     "output_type": "stream",
     "text": [
      "/tmp/ipykernel_5147/538281309.py:10: TqdmDeprecationWarning: This function will be removed in tqdm==5.0.0\n",
      "Please use `tqdm.notebook.tqdm` instead of `tqdm.tqdm_notebook`\n",
      "  for index, row in tqdm.tqdm_notebook(train_csv.iterrows(), desc = 'tqdm() Progress Bar', total = len(train_csv)):\n"
     ]
    },
    {
     "data": {
      "application/vnd.jupyter.widget-view+json": {
       "model_id": "af68bbae6cd64e1a85fe607cfd934a9c",
       "version_major": 2,
       "version_minor": 0
      },
      "text/plain": [
       "tqdm() Progress Bar:   0%|          | 0/2629 [00:00<?, ?it/s]"
      ]
     },
     "metadata": {},
     "output_type": "display_data"
    }
   ],
   "source": [
    "x_train = []\n",
    "y_train = []\n",
    "\n",
    "labels = train_csv['Class'].unique()\n",
    "#spelling error in the test_data we need to account for\n",
    "label_encoder = {'Sound_Guiatr' : 0}\n",
    "for index, label in enumerate(labels):\n",
    "    label_encoder[label] = index\n",
    "\n",
    "for index, row in tqdm.tqdm_notebook(train_csv.iterrows(), desc = 'tqdm() Progress Bar', total = len(train_csv)):\n",
    "    \n",
    "    orginal_filename = row['FileName']\n",
    "    audio, sr = librosa.load(path = f'/home/michael/Documents/VScode/Uni/Advanced AI/project_ideas/archive/Train_submission/Train_submission/{orginal_filename}')\n",
    "    windowed_audio = get_windows(audio, sr)\n",
    "    \n",
    "    for window in windowed_audio:\n",
    "        # an average point at the center of the wave form \n",
    "        centroid = librosa.feature.spectral_centroid(y=window, sr=sr, n_fft=1024, hop_length=512)[0]\n",
    "        #the point at which 85% of the spectral power lies \n",
    "        roll_off = librosa.feature.spectral_rolloff(y=window, sr=sr, n_fft=1024, hop_length=512)[0]\n",
    "        # the width of a wave at the spectral centroid \n",
    "        bandwidth = librosa.feature.spectral_bandwidth(y=window, sr=sr, n_fft=1024, hop_length=512)[0]\n",
    "        #the difference between the peaks and troughs \n",
    "        contrast = librosa.feature.spectral_contrast(y=window, sr=sr, n_fft=1024, hop_length=512)[0]\n",
    "        #a comparison of the artithemic mean and geometric mean \n",
    "        flatness = librosa.feature.spectral_flatness(y=window, n_fft=1024, hop_length=512)[0]\n",
    "        \n",
    "        \n",
    "        feature = [centroid, roll_off, bandwidth, contrast, flatness]\n",
    "        label = label_encoder[row['Class']]\n",
    "        \n",
    "    x_train.append(feature)\n",
    "    y_train.append(label)\n",
    "\n"
   ]
  },
  {
   "cell_type": "code",
   "execution_count": 9,
   "metadata": {},
   "outputs": [
    {
     "name": "stderr",
     "output_type": "stream",
     "text": [
      "/tmp/ipykernel_5147/3840300626.py:10: TqdmDeprecationWarning: This function will be removed in tqdm==5.0.0\n",
      "Please use `tqdm.notebook.tqdm` instead of `tqdm.tqdm_notebook`\n",
      "  for index, row in tqdm.tqdm_notebook(test_csv.iterrows(), desc = 'tqdm() Progress Bar', total = len(test_csv)):\n"
     ]
    },
    {
     "data": {
      "application/vnd.jupyter.widget-view+json": {
       "model_id": "4a7ca76dfb5d44fab7e17b911252ef6b",
       "version_major": 2,
       "version_minor": 0
      },
      "text/plain": [
       "tqdm() Progress Bar:   0%|          | 0/80 [00:00<?, ?it/s]"
      ]
     },
     "metadata": {},
     "output_type": "display_data"
    }
   ],
   "source": [
    "x_test = []\n",
    "y_test = []\n",
    "\n",
    "labels = test_csv['Class'].unique()\n",
    "#spelling error in the test_data we need to account for\n",
    "label_encoder = {'Sound_Guiatr' : 0}\n",
    "for index, label in enumerate(labels):\n",
    "    label_encoder[label] = index\n",
    "\n",
    "for index, row in tqdm.tqdm_notebook(test_csv.iterrows(), desc = 'tqdm() Progress Bar', total = len(test_csv)):\n",
    "    \n",
    "    orginal_filename = row['FileName']\n",
    "    audio, sr = librosa.load(path = f'/home/michael/Documents/VScode/Uni/Advanced AI/project_ideas/archive/Test_submission/Test_submission/{orginal_filename}')\n",
    "    windowed_audio = get_windows(audio, sr)\n",
    "    \n",
    "    for window in windowed_audio:\n",
    "        # an average point at the center of the wave form \n",
    "        centroid = librosa.feature.spectral_centroid(y=window, sr=sr, n_fft=1024, hop_length=512)[0]\n",
    "        # the point at which 85% of the spectral power lies \n",
    "        roll_off = librosa.feature.spectral_rolloff(y=window, sr=sr, n_fft=1024, hop_length=512)[0]\n",
    "        # the width of a wave at the spectral centroid \n",
    "        bandwidth = librosa.feature.spectral_bandwidth(y=window, sr=sr, n_fft=1024, hop_length=512)[0]\n",
    "        # the difference between the peaks and troughs \n",
    "        contrast = librosa.feature.spectral_contrast(y=window, sr=sr, n_fft=1024, hop_length=512)[0]\n",
    "        # a comparison of the artithemic mean and geometric mean \n",
    "        flatness = librosa.feature.spectral_flatness(y=window, n_fft=1024, hop_length=512)[0]\n",
    "        \n",
    "        feature = [centroid, roll_off, bandwidth, contrast, flatness]\n",
    "        label = label_encoder[row['Class']]\n",
    "        \n",
    "    x_test.append(feature)\n",
    "    y_test.append(label)"
   ]
  },
  {
   "cell_type": "code",
   "execution_count": 28,
   "metadata": {},
   "outputs": [
    {
     "data": {
      "text/plain": [
       "(80, 220)"
      ]
     },
     "execution_count": 28,
     "metadata": {},
     "output_type": "execute_result"
    }
   ],
   "source": [
    "np.shape(x_test)"
   ]
  },
  {
   "cell_type": "code",
   "execution_count": 10,
   "metadata": {},
   "outputs": [],
   "source": [
    "np.shape(x_train)\n",
    "#shape is 2629 5, 44 for x train and 80, 5, 44 for x test\n",
    "np.save('x_train', np.array(x_train).flatten())\n",
    "np.save('y_train', np.array(y_train).flatten())\n",
    "np.save('x_test', np.array(x_test).flatten())\n",
    "np.save('y_test', np.array(y_test).flatten())\n"
   ]
  },
  {
   "cell_type": "code",
   "execution_count": 45,
   "metadata": {},
   "outputs": [],
   "source": [
    "x_train = np.reshape(np.load('x_train.npy'), (2629, 5, 44))\n",
    "y_train = np.reshape(np.load('y_train.npy'), (2629,))\n",
    "x_test = np.reshape(np.load('x_test.npy'), (80, 5, 44))\n",
    "y_test = np.reshape(np.load('y_test.npy'), (80,))\n",
    "\n",
    "#[centroid, roll_off, bandwidth, contrast, flatness]\n",
    "centroid_x, centroid_y = [], []\n",
    "roll_off_x, roll_off_y = [], []\n",
    "bandwidth_x, bandwidth_y = [], []\n",
    "contrast_x, contrast_y = [], []\n",
    "flatness_x, flatness_y = [], []\n",
    "\n",
    "for index, multidim in enumerate(x_train):\n",
    "    centroid_x.append(multidim[0])\n",
    "    centroid_y.append(y_train[index])\n",
    "    \n",
    "    roll_off_x.append(multidim[1])\n",
    "    roll_off_y.append(y_train[index])\n",
    "    \n",
    "    bandwidth_x.append(multidim[2])\n",
    "    bandwidth_y.append(y_train[index])\n",
    "    \n",
    "    contrast_x.append(multidim[3])\n",
    "    contrast_y.append(y_train[index])\n",
    "    \n",
    "    flatness_x.append(multidim[4])\n",
    "    flatness_y.append(y_train[index])\n",
    "    \n",
    "\n"
   ]
  },
  {
   "cell_type": "code",
   "execution_count": 50,
   "metadata": {},
   "outputs": [],
   "source": [
    "centroid_testx, centroid_testy =[], []\n",
    "roll_off_testx, roll_off_testy =[], []\n",
    "bandwidth_testx, bandwidth_testy = [], []\n",
    "contrast_testx, contrast_testy = [], []\n",
    "flatness_testx, flatness_testy = [], []\n",
    "\n",
    "for index, multidim in enumerate(x_test):\n",
    "    centroid_testx.append(multidim[0])\n",
    "    centroid_testy.append(y_test[index])\n",
    "    \n",
    "    roll_off_testx.append(multidim[1])\n",
    "    roll_off_testy.append(y_test[index])\n",
    "    \n",
    "    bandwidth_testx.append(multidim[2])\n",
    "    bandwidth_testy.append(y_test[index])\n",
    "    \n",
    "    contrast_testx.append(multidim[3])\n",
    "    contrast_testy.append(y_test[index])\n",
    "    \n",
    "    flatness_testx.append(multidim[4])\n",
    "    flatness_testy.append(y_test[index])"
   ]
  },
  {
   "cell_type": "code",
   "execution_count": 47,
   "metadata": {},
   "outputs": [
    {
     "data": {
      "text/html": [
       "<style>#sk-container-id-4 {color: black;}#sk-container-id-4 pre{padding: 0;}#sk-container-id-4 div.sk-toggleable {background-color: white;}#sk-container-id-4 label.sk-toggleable__label {cursor: pointer;display: block;width: 100%;margin-bottom: 0;padding: 0.3em;box-sizing: border-box;text-align: center;}#sk-container-id-4 label.sk-toggleable__label-arrow:before {content: \"▸\";float: left;margin-right: 0.25em;color: #696969;}#sk-container-id-4 label.sk-toggleable__label-arrow:hover:before {color: black;}#sk-container-id-4 div.sk-estimator:hover label.sk-toggleable__label-arrow:before {color: black;}#sk-container-id-4 div.sk-toggleable__content {max-height: 0;max-width: 0;overflow: hidden;text-align: left;background-color: #f0f8ff;}#sk-container-id-4 div.sk-toggleable__content pre {margin: 0.2em;color: black;border-radius: 0.25em;background-color: #f0f8ff;}#sk-container-id-4 input.sk-toggleable__control:checked~div.sk-toggleable__content {max-height: 200px;max-width: 100%;overflow: auto;}#sk-container-id-4 input.sk-toggleable__control:checked~label.sk-toggleable__label-arrow:before {content: \"▾\";}#sk-container-id-4 div.sk-estimator input.sk-toggleable__control:checked~label.sk-toggleable__label {background-color: #d4ebff;}#sk-container-id-4 div.sk-label input.sk-toggleable__control:checked~label.sk-toggleable__label {background-color: #d4ebff;}#sk-container-id-4 input.sk-hidden--visually {border: 0;clip: rect(1px 1px 1px 1px);clip: rect(1px, 1px, 1px, 1px);height: 1px;margin: -1px;overflow: hidden;padding: 0;position: absolute;width: 1px;}#sk-container-id-4 div.sk-estimator {font-family: monospace;background-color: #f0f8ff;border: 1px dotted black;border-radius: 0.25em;box-sizing: border-box;margin-bottom: 0.5em;}#sk-container-id-4 div.sk-estimator:hover {background-color: #d4ebff;}#sk-container-id-4 div.sk-parallel-item::after {content: \"\";width: 100%;border-bottom: 1px solid gray;flex-grow: 1;}#sk-container-id-4 div.sk-label:hover label.sk-toggleable__label {background-color: #d4ebff;}#sk-container-id-4 div.sk-serial::before {content: \"\";position: absolute;border-left: 1px solid gray;box-sizing: border-box;top: 0;bottom: 0;left: 50%;z-index: 0;}#sk-container-id-4 div.sk-serial {display: flex;flex-direction: column;align-items: center;background-color: white;padding-right: 0.2em;padding-left: 0.2em;position: relative;}#sk-container-id-4 div.sk-item {position: relative;z-index: 1;}#sk-container-id-4 div.sk-parallel {display: flex;align-items: stretch;justify-content: center;background-color: white;position: relative;}#sk-container-id-4 div.sk-item::before, #sk-container-id-4 div.sk-parallel-item::before {content: \"\";position: absolute;border-left: 1px solid gray;box-sizing: border-box;top: 0;bottom: 0;left: 50%;z-index: -1;}#sk-container-id-4 div.sk-parallel-item {display: flex;flex-direction: column;z-index: 1;position: relative;background-color: white;}#sk-container-id-4 div.sk-parallel-item:first-child::after {align-self: flex-end;width: 50%;}#sk-container-id-4 div.sk-parallel-item:last-child::after {align-self: flex-start;width: 50%;}#sk-container-id-4 div.sk-parallel-item:only-child::after {width: 0;}#sk-container-id-4 div.sk-dashed-wrapped {border: 1px dashed gray;margin: 0 0.4em 0.5em 0.4em;box-sizing: border-box;padding-bottom: 0.4em;background-color: white;}#sk-container-id-4 div.sk-label label {font-family: monospace;font-weight: bold;display: inline-block;line-height: 1.2em;}#sk-container-id-4 div.sk-label-container {text-align: center;}#sk-container-id-4 div.sk-container {/* jupyter's `normalize.less` sets `[hidden] { display: none; }` but bootstrap.min.css set `[hidden] { display: none !important; }` so we also need the `!important` here to be able to override the default hidden behavior on the sphinx rendered scikit-learn.org. See: https://github.com/scikit-learn/scikit-learn/issues/21755 */display: inline-block !important;position: relative;}#sk-container-id-4 div.sk-text-repr-fallback {display: none;}</style><div id=\"sk-container-id-4\" class=\"sk-top-container\"><div class=\"sk-text-repr-fallback\"><pre>RandomForestClassifier()</pre><b>In a Jupyter environment, please rerun this cell to show the HTML representation or trust the notebook. <br />On GitHub, the HTML representation is unable to render, please try loading this page with nbviewer.org.</b></div><div class=\"sk-container\" hidden><div class=\"sk-item\"><div class=\"sk-estimator sk-toggleable\"><input class=\"sk-toggleable__control sk-hidden--visually\" id=\"sk-estimator-id-4\" type=\"checkbox\" checked><label for=\"sk-estimator-id-4\" class=\"sk-toggleable__label sk-toggleable__label-arrow\">RandomForestClassifier</label><div class=\"sk-toggleable__content\"><pre>RandomForestClassifier()</pre></div></div></div></div></div>"
      ],
      "text/plain": [
       "RandomForestClassifier()"
      ]
     },
     "execution_count": 47,
     "metadata": {},
     "output_type": "execute_result"
    }
   ],
   "source": [
    "centroid_rf = RandomForestClassifier()\n",
    "centroid_rf.fit(centroid_x, centroid_y)\n",
    "\n",
    "roll_off_rf = RandomForestClassifier()\n",
    "roll_off_rf.fit(roll_off_x, roll_off_y)\n",
    "\n",
    "bandwidth_rf = RandomForestClassifier()\n",
    "bandwidth_rf.fit(bandwidth_x, bandwidth_y)\n",
    "\n",
    "contrast_rf = RandomForestClassifier()\n",
    "contrast_rf.fit(contrast_x, contrast_y)\n",
    "\n",
    "flatness_rf = RandomForestClassifier()\n",
    "flatness_rf.fit(flatness_x, flatness_y)"
   ]
  },
  {
   "cell_type": "code",
   "execution_count": 52,
   "metadata": {},
   "outputs": [
    {
     "name": "stdout",
     "output_type": "stream",
     "text": [
      "0.3875\n"
     ]
    },
    {
     "data": {
      "text/plain": [
       "<Figure size 720x576 with 0 Axes>"
      ]
     },
     "metadata": {},
     "output_type": "display_data"
    },
    {
     "data": {
      "image/png": "[encoded data removed]",
      "text/plain": [
       "<Figure size 432x288 with 2 Axes>"
      ]
     },
     "metadata": {
      "needs_background": "light"
     },
     "output_type": "display_data"
    }
   ],
   "source": [
    "print(flatness_rf_score := flatness_rf.score(flatness_testx, flatness_testy))\n",
    "\n",
    "y_pred = flatness_rf.predict(flatness_testx)\n",
    "\n",
    "plt.figure(figsize=(10,8))\n",
    "cm=ConfusionMatrixDisplay(confusion_matrix(y_true=y_test, y_pred=y_pred), display_labels=['Guitar', 'Drum', 'Violin', 'Piano'])#, display_labels = [False, True]) \n",
    "cm.plot()\n",
    "plt.show()"
   ]
  },
  {
   "cell_type": "code",
   "execution_count": 53,
   "metadata": {},
   "outputs": [
    {
     "name": "stdout",
     "output_type": "stream",
     "text": [
      "0.35\n"
     ]
    },
    {
     "data": {
      "text/plain": [
       "<Figure size 720x576 with 0 Axes>"
      ]
     },
     "metadata": {},
     "output_type": "display_data"
    },
    {
     "data": {
      "image/png": "[encoded data removed]",
      "text/plain": [
       "<Figure size 432x288 with 2 Axes>"
      ]
     },
     "metadata": {
      "needs_background": "light"
     },
     "output_type": "display_data"
    }
   ],
   "source": [
    "print(constrast_rf_score := contrast_rf.score(contrast_testx, contrast_testy))\n",
    "\n",
    "y_pred = contrast_rf.predict(contrast_testx)\n",
    "\n",
    "plt.figure(figsize=(10,8))\n",
    "cm=ConfusionMatrixDisplay(confusion_matrix(y_true=y_test, y_pred=y_pred), display_labels=['Guitar', 'Drum', 'Violin', 'Piano'])#, display_labels = [False, True]) \n",
    "cm.plot()\n",
    "plt.show()"
   ]
  },
  {
   "cell_type": "code",
   "execution_count": 54,
   "metadata": {},
   "outputs": [
    {
     "name": "stdout",
     "output_type": "stream",
     "text": [
      "0.3\n"
     ]
    },
    {
     "data": {
      "text/plain": [
       "<Figure size 720x576 with 0 Axes>"
      ]
     },
     "metadata": {},
     "output_type": "display_data"
    },
    {
     "data": {
      "image/png": "[encoded data removed]",
      "text/plain": [
       "<Figure size 432x288 with 2 Axes>"
      ]
     },
     "metadata": {
      "needs_background": "light"
     },
     "output_type": "display_data"
    }
   ],
   "source": [
    "print(bandwidth_rf_score := bandwidth_rf.score(bandwidth_testx, bandwidth_testy))\n",
    "\n",
    "y_pred = bandwidth_rf.predict(bandwidth_testx)\n",
    "\n",
    "plt.figure(figsize=(10,8))\n",
    "cm=ConfusionMatrixDisplay(confusion_matrix(y_true=y_test, y_pred=y_pred), display_labels=['Guitar', 'Drum', 'Violin', 'Piano'])#, display_labels = [False, True]) \n",
    "cm.plot()\n",
    "plt.show()"
   ]
  },
  {
   "cell_type": "code",
   "execution_count": 55,
   "metadata": {},
   "outputs": [
    {
     "name": "stdout",
     "output_type": "stream",
     "text": [
      "0.3625\n"
     ]
    },
    {
     "data": {
      "text/plain": [
       "<Figure size 720x576 with 0 Axes>"
      ]
     },
     "metadata": {},
     "output_type": "display_data"
    },
    {
     "data": {
      "image/png": "[encoded data removed]",
      "text/plain": [
       "<Figure size 432x288 with 2 Axes>"
      ]
     },
     "metadata": {
      "needs_background": "light"
     },
     "output_type": "display_data"
    }
   ],
   "source": [
    "print(roll_off_rf_score := roll_off_rf.score(roll_off_testx, roll_off_testy))\n",
    "\n",
    "y_pred = roll_off_rf.predict(roll_off_testx)\n",
    "\n",
    "plt.figure(figsize=(10,8))\n",
    "cm=ConfusionMatrixDisplay(confusion_matrix(y_true=y_test, y_pred=y_pred), display_labels=['Guitar', 'Drum', 'Violin', 'Piano'])#, display_labels = [False, True]) \n",
    "cm.plot()\n",
    "plt.show()"
   ]
  },
  {
   "cell_type": "code",
   "execution_count": 57,
   "metadata": {},
   "outputs": [
    {
     "name": "stdout",
     "output_type": "stream",
     "text": [
      "0.4125\n"
     ]
    },
    {
     "data": {
      "text/plain": [
       "<Figure size 720x576 with 0 Axes>"
      ]
     },
     "metadata": {},
     "output_type": "display_data"
    },
    {
     "data": {
      "image/png": "[encoded data removed]",
      "text/plain": [
       "<Figure size 432x288 with 2 Axes>"
      ]
     },
     "metadata": {
      "needs_background": "light"
     },
     "output_type": "display_data"
    }
   ],
   "source": [
    "print(centroid_rf_score := centroid_rf.score(centroid_testx, centroid_testy))\n",
    "\n",
    "y_pred = centroid_rf.predict(centroid_testx)\n",
    "\n",
    "plt.figure(figsize=(10,8))\n",
    "cm=ConfusionMatrixDisplay(confusion_matrix(y_true=y_test, y_pred=y_pred), display_labels=['Guitar', 'Drum', 'Violin', 'Piano'])#, display_labels = [False, True]) \n",
    "cm.plot()\n",
    "plt.show()"
   ]
  },
  {
   "cell_type": "code",
   "execution_count": 58,
   "metadata": {},
   "outputs": [
    {
     "data": {
      "image/png": "[encoded data removed]",
      "text/plain": [
       "<Figure size 432x288 with 1 Axes>"
      ]
     },
     "metadata": {
      "needs_background": "light"
     },
     "output_type": "display_data"
    }
   ],
   "source": [
    "#flatness_rf_score, constrast_rf_score, bandwidth_rf_score, roll_off_rf_score, centroid_rf_score\n",
    "\n",
    "plt.bar('flatness', flatness_rf_score)\n",
    "plt.bar('bandwidth', bandwidth_rf_score)\n",
    "plt.bar('roll off', roll_off_rf_score)\n",
    "plt.bar('centroid', centroid_rf_score)\n",
    "plt.show()"
   ]
  },
  {
   "cell_type": "markdown",
   "metadata": {},
   "source": [
    "y_pred = rf.predict(x_test, y_test)\n",
    "\n",
    "plt.figure(figsize=(10,8))\n",
    "predicted= np.argmax(y_pred,axis=1)\n",
    "cm=ConfusionMatrixDisplay(confusion_matrix(y_true=y_true, y_pred=predicted), display_labels=['Guitar', 'Drum', 'Violin', 'Piano'])#, display_labels = [False, True]) \n",
    "cm.plot()\n",
    "plt.show()"
   ]
  }
 ],
 "metadata": {
  "kernelspec": {
   "display_name": "Python 3",
   "language": "python",
   "name": "python3"
  },
  "language_info": {
   "codemirror_mode": {
    "name": "ipython",
    "version": 3
   },
   "file_extension": ".py",
   "mimetype": "text/x-python",
   "name": "python",
   "nbconvert_exporter": "python",
   "pygments_lexer": "ipython3",
   "version": "3.10.12"
  }
 },
 "nbformat": 4,
 "nbformat_minor": 2
}
